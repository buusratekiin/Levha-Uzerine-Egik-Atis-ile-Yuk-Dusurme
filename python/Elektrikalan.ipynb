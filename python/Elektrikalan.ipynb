{
 "cells": [
  {
   "cell_type": "code",
   "execution_count": 19,
   "id": "b7327754",
   "metadata": {},
   "outputs": [],
   "source": [
    "import os, sys\n",
    "import numpy as np\n",
    "\n",
    "\n",
    "# elektrik alanı\n",
    "q = 1\n",
    "lx, ly, lz = 800, 1, 800\n",
    "\n",
    "def uzaklik(x1,y1,z1,x2,y2,z2):\n",
    "    dx = x2-x1\n",
    "    dy = y2-y1\n",
    "    dz = z2-z1\n",
    "    r  = (dx*dx+dy*dy+dz*dz)**(0.5)\n",
    "    return r\n",
    "\n",
    "def ealan(q,x1,y1,z1,x2,y2,z2):\n",
    "    r = uzaklik(x1,y1,z1,x2,y2,z2)\n",
    "    e = q/(r*r)\n",
    "    ux =(x2-x1)/r\n",
    "    uy =(y2-y1)/r\n",
    "    uz =(z2-z1)/r\n",
    "    return e, ux, uy, uz\n",
    "\n",
    "def hesapla(q,xq,yq,zq,vtkdosyasi):\n",
    "    vtk = \"# vtk DataFile Version 3.0\\n\"\n",
    "    vtk += \"Electric field of Residues\\n\"\n",
    "    vtk += \"ASCII\\n\"\n",
    "    vtk += \"DATASET STRUCTURED_POINTS\\n\"\n",
    "    vtk += \"DIMENSIONS \"+str(lx)+\" \"+str(ly)+\" \"+str(lz)+\"\\n\"\n",
    "    vtk += \"ASPECT_RATIO 1 1 1\\n\"\n",
    "    vtk += \"ORIGIN 11971.542732574777 171.57159869111638  -200\\n\"\n",
    "    vtk += \"POINT_DATA \"+str(lx*ly*lz)+\"\\n\"\n",
    "    vtk += \"SCALARS ealan float\\n\"\n",
    "    vtk += \"LOOKUP_TABLE default\\n\"\n",
    "    for z in range(0,lz):\n",
    "            for y in range(0,ly):\n",
    "                for x in range(0,lx):\n",
    "                    e,ux,uy,uz = ealan(q,xq,yq,zq,x,y,z)\n",
    "                    vtk += str(e)+\"\\n\"\n",
    "    vtk += \"VECTORS ealanvek float \\n\"\n",
    "    for z in range(0,lz):\n",
    "        for y in range(0,ly):\n",
    "            for x in range(0,lx):\n",
    "                e,ux,uy,uz = ealan(q,xq,yq,zq,x,y,z)\n",
    "                vtk += str(ux)+\" \"+str(uy)+\" \"+str(uz)+ \"\\n\"\n",
    "    \n",
    "    with open(vtkdosyasi,\"w\") as vt:\n",
    "        vt.write(vtk)\n"
   ]
  },
  {
   "cell_type": "code",
   "execution_count": 20,
   "id": "8116fd2b",
   "metadata": {},
   "outputs": [],
   "source": [
    "hesapla (1, 12811.542732574777 ,-211.57159869111638, 0,\"testt.vtk\")"
   ]
  },
  {
   "cell_type": "code",
   "execution_count": null,
   "id": "9ac7a377",
   "metadata": {},
   "outputs": [],
   "source": []
  },
  {
   "cell_type": "code",
   "execution_count": null,
   "id": "06950fc4",
   "metadata": {},
   "outputs": [],
   "source": []
  }
 ],
 "metadata": {
  "kernelspec": {
   "display_name": "Python 3 (ipykernel)",
   "language": "python",
   "name": "python3"
  },
  "language_info": {
   "codemirror_mode": {
    "name": "ipython",
    "version": 3
   },
   "file_extension": ".py",
   "mimetype": "text/x-python",
   "name": "python",
   "nbconvert_exporter": "python",
   "pygments_lexer": "ipython3",
   "version": "3.9.7"
  }
 },
 "nbformat": 4,
 "nbformat_minor": 5
}
