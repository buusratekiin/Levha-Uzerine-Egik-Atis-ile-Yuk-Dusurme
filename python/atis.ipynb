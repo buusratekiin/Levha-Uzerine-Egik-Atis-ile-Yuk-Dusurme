{
 "cells": [
  {
   "cell_type": "code",
   "execution_count": 8,
   "id": "8802c3be",
   "metadata": {},
   "outputs": [],
   "source": [
    "import sys, os\n",
    "import numpy as np\n",
    "\n",
    "vilk = 500\n",
    "teta = 75\n",
    "\n",
    "def atis(vilk, teta, t):\n",
    "    v0x = vilk*np.cos(teta*np.pi/180)\n",
    "    v0y = vilk*np.sin(teta*np.pi/180)\n",
    "    vx  = v0x\n",
    "    vy  = v0y - 9.8*t\n",
    "    ux  = vx/(np.sqrt(vx*vx+vy*vy))\n",
    "    uy  = vy/(np.sqrt(vx*vx+vy*vy))\n",
    "    x   = vx*t\n",
    "    y   = v0y*t -4.9*t*t\n",
    "    return vx,vy,ux,uy,x,y\n",
    "\n",
    "\n",
    "def hesapla(t,vtkdosyasi):\n",
    "    vtk = \"# vtk DataFile Version 3.0\\n\"\n",
    "    vtk += \"Tas atttim havaya\\n\"\n",
    "    vtk += \"ASCII\\n\"\n",
    "    vtk += \"DATASET POLYDATA\\n\"\n",
    "    vtk += \"POINTS \"+str(t)+\" float\\n\"\n",
    "    for i in range(0,t):\n",
    "        vx,vy,ux,uy,x,y = atis(vilk, teta, i)\n",
    "        vtk += str(x)+\" \"+str(y)+\" 0\\n\"\n",
    "    vtk += \"POINT_DATA \"+str(t)+\" \\n\"\n",
    "    vtk += \"SCALARS nerede float \\n\"\n",
    "    vtk += \"LOOKUP_TABLE default\\n\"\n",
    "    for i in range(0,t):        \n",
    "        vtk += \"1\\n\"       \n",
    "    vtk += \"VECTORS yonu float\\n\"\n",
    "    for i in range(0,t):        \n",
    "        vx,vy,ux,uy,x,y = atis(vilk, teta, i)\n",
    "        vtk += str(ux)+\" \"+str(uy)+\" 0\\n\" \n",
    "    with open(vtkdosyasi,\"w\") as vt:\n",
    "        vt.write(vtk)\n",
    "dn=0\n",
    "for j in range(0,100):\n",
    "    hesapla(j, \"anima/atis\"+str(dn)+\".vtk\")\n",
    "    dn += 1\n",
    "\n"
   ]
  },
  {
   "cell_type": "code",
   "execution_count": null,
   "id": "191c633b",
   "metadata": {},
   "outputs": [],
   "source": []
  }
 ],
 "metadata": {
  "kernelspec": {
   "display_name": "Python 3 (ipykernel)",
   "language": "python",
   "name": "python3"
  },
  "language_info": {
   "codemirror_mode": {
    "name": "ipython",
    "version": 3
   },
   "file_extension": ".py",
   "mimetype": "text/x-python",
   "name": "python",
   "nbconvert_exporter": "python",
   "pygments_lexer": "ipython3",
   "version": "3.9.7"
  }
 },
 "nbformat": 4,
 "nbformat_minor": 5
}
